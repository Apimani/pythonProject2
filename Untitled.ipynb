{
 "cells": [
  {
   "cell_type": "code",
   "execution_count": 1,
   "id": "e3a69a44-4fec-48aa-a91c-f3df4a3b031b",
   "metadata": {},
   "outputs": [
    {
     "name": "stdout",
     "output_type": "stream",
     "text": [
      "Hello Mr. Pitchaimani Mani, Good Morning. Have a nice day!.\n"
     ]
    }
   ],
   "source": [
    "print (\"Hello Mr. Pitchaimani Mani, Good Morning. Have a nice day!.\")"
   ]
  },
  {
   "cell_type": "code",
   "execution_count": 2,
   "id": "0c92a773-8119-444b-9333-d124b98dbffb",
   "metadata": {},
   "outputs": [
    {
     "name": "stdout",
     "output_type": "stream",
     "text": [
      "   sales_id  product_id  store_id  quantity  price   sale_date region\n",
      "0         7         107         1         4   22.0  2024-09-07   High\n",
      "1         8         108         2         6   24.0  2024-09-08    Low\n",
      "2         9         109         3        11   19.0  2024-09-09   High\n",
      "3        10         110         4         9   17.0  2024-09-10    Low\n",
      "4         1         101         1        10   15.0  2024-09-01   High\n",
      "5         2         102         1         5   25.0  2024-09-01    Low\n",
      "6         3         103         2         7   20.0  2024-09-02   High\n",
      "7         4         104         2         3   30.0  2024-09-03    Low\n",
      "8         5         105         1        12   12.0  2024-09-05   High\n",
      "9         6         106         3         8   18.0  2024-09-06    Low\n"
     ]
    }
   ],
   "source": [
    "import pandas as pd\n",
    "df = pd.read_csv('sales_data.csv')\n",
    "print(df)"
   ]
  },
  {
   "cell_type": "code",
   "execution_count": 3,
   "id": "1693689d-b003-4c17-8cc6-2450371baace",
   "metadata": {},
   "outputs": [],
   "source": [
    "df.to_csv('sales_data.csv',index = False)"
   ]
  },
  {
   "cell_type": "code",
   "execution_count": 4,
   "id": "95773f4b-a4b7-45bc-b734-1c6dc0e0f948",
   "metadata": {},
   "outputs": [
    {
     "name": "stdout",
     "output_type": "stream",
     "text": [
      "   eno    ename grade\n",
      "0    1   Suresh     A\n",
      "1    2     Arun     C\n",
      "2    3  Ashwini     A\n"
     ]
    }
   ],
   "source": [
    "import pandas as pd\n",
    "df = pd.read_csv('employee_source.csv')\n",
    "print(df)"
   ]
  },
  {
   "cell_type": "code",
   "execution_count": 5,
   "id": "d8d5ddd0-959b-45b9-8956-e153fb8bf9b8",
   "metadata": {},
   "outputs": [
    {
     "name": "stdout",
     "output_type": "stream",
     "text": [
      "   eno    ename grade\n",
      "0    1   Suresh     A\n",
      "1    2     Arun     C\n",
      "2    3  Ashwini     A\n"
     ]
    }
   ],
   "source": [
    "import pandas as pd\n",
    "df = pd.read_csv('employee_target.csv')\n",
    "print(df)"
   ]
  },
  {
   "cell_type": "code",
   "execution_count": 6,
   "id": "5352afe5-dc09-4b2d-a320-2e9aae153fe1",
   "metadata": {},
   "outputs": [
    {
     "name": "stdout",
     "output_type": "stream",
     "text": [
      "   sales_id  product_id  store_id  quantity  price   sale_date region\n",
      "0         7         107         1         4   22.0  2024-09-07   High\n",
      "1         8         108         2         6   24.0  2024-09-08    Low\n",
      "2         9         109         3        11   19.0  2024-09-09   High\n",
      "3        10         110         4         9   17.0  2024-09-10    Low\n",
      "4         1         101         1        10   15.0  2024-09-01   High\n",
      "5         2         102         1         5   25.0  2024-09-01    Low\n",
      "6         3         103         2         7   20.0  2024-09-02   High\n",
      "7         4         104         2         3   30.0  2024-09-03    Low\n",
      "8         5         105         1        12   12.0  2024-09-05   High\n",
      "9         6         106         3         8   18.0  2024-09-06    Low\n"
     ]
    }
   ],
   "source": [
    "import pandas as pd\n",
    "df = pd.read_csv('sales_data.csv')\n",
    "print(df)"
   ]
  },
  {
   "cell_type": "code",
   "execution_count": null,
   "id": "5e3b4b78-1d92-4084-b8ef-64664e5bd455",
   "metadata": {},
   "outputs": [],
   "source": []
  }
 ],
 "metadata": {
  "kernelspec": {
   "display_name": "Python 3 (ipykernel)",
   "language": "python",
   "name": "python3"
  },
  "language_info": {
   "codemirror_mode": {
    "name": "ipython",
    "version": 3
   },
   "file_extension": ".py",
   "mimetype": "text/x-python",
   "name": "python",
   "nbconvert_exporter": "python",
   "pygments_lexer": "ipython3",
   "version": "3.12.4"
  }
 },
 "nbformat": 4,
 "nbformat_minor": 5
}

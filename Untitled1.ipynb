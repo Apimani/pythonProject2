{
 "cells": [
  {
   "cell_type": "code",
   "execution_count": 4,
   "id": "040f890d-ff3c-4b96-b28c-d33654e69aae",
   "metadata": {},
   "outputs": [],
   "source": [
    "import pandas as pd"
   ]
  },
  {
   "cell_type": "code",
   "execution_count": 5,
   "id": "654f5ad4-7e60-47ff-ad7d-30371f1387f8",
   "metadata": {},
   "outputs": [],
   "source": [
    "df = pd.read_csv('target_csv')"
   ]
  },
  {
   "cell_type": "code",
   "execution_count": 6,
   "id": "276a7bd2-a1e8-400d-bc41-c044976ad9f8",
   "metadata": {},
   "outputs": [
    {
     "data": {
      "text/html": [
       "<div>\n",
       "<style scoped>\n",
       "    .dataframe tbody tr th:only-of-type {\n",
       "        vertical-align: middle;\n",
       "    }\n",
       "\n",
       "    .dataframe tbody tr th {\n",
       "        vertical-align: top;\n",
       "    }\n",
       "\n",
       "    .dataframe thead th {\n",
       "        text-align: right;\n",
       "    }\n",
       "</style>\n",
       "<table border=\"1\" class=\"dataframe\">\n",
       "  <thead>\n",
       "    <tr style=\"text-align: right;\">\n",
       "      <th></th>\n",
       "      <th>eno</th>\n",
       "      <th>ename</th>\n",
       "      <th>deptno</th>\n",
       "      <th>Salary</th>\n",
       "    </tr>\n",
       "  </thead>\n",
       "  <tbody>\n",
       "    <tr>\n",
       "      <th>0</th>\n",
       "      <td>1</td>\n",
       "      <td>mpmani</td>\n",
       "      <td>10</td>\n",
       "      <td>1000</td>\n",
       "    </tr>\n",
       "    <tr>\n",
       "      <th>1</th>\n",
       "      <td>2</td>\n",
       "      <td>api</td>\n",
       "      <td>20</td>\n",
       "      <td>2000</td>\n",
       "    </tr>\n",
       "    <tr>\n",
       "      <th>2</th>\n",
       "      <td>2</td>\n",
       "      <td>apineha</td>\n",
       "      <td>10</td>\n",
       "      <td>2000</td>\n",
       "    </tr>\n",
       "    <tr>\n",
       "      <th>3</th>\n",
       "      <td>4</td>\n",
       "      <td>atchu</td>\n",
       "      <td>30</td>\n",
       "      <td>3000</td>\n",
       "    </tr>\n",
       "  </tbody>\n",
       "</table>\n",
       "</div>"
      ],
      "text/plain": [
       "   eno    ename  deptno  Salary\n",
       "0    1   mpmani      10    1000\n",
       "1    2      api      20    2000\n",
       "2    2  apineha      10    2000\n",
       "3    4    atchu      30    3000"
      ]
     },
     "execution_count": 6,
     "metadata": {},
     "output_type": "execute_result"
    }
   ],
   "source": [
    "df"
   ]
  },
  {
   "cell_type": "code",
   "execution_count": 7,
   "id": "9af218f7-b602-45b5-9c5e-74346128b828",
   "metadata": {},
   "outputs": [],
   "source": [
    "df.to_csv('target.csv', index = False)"
   ]
  },
  {
   "cell_type": "code",
   "execution_count": 9,
   "id": "d2ebcee7-2dd3-47c5-bae3-a9b3545367e3",
   "metadata": {},
   "outputs": [],
   "source": [
    "import pytest\n",
    "import pandas as pd\n",
    "\n",
    "# test if there are any duplicate records/rows in target system\n",
    "def test_checkDuplicates():\n",
    "    target_df = pd.read_csv(\"target.csv\", sep=\",\")\n",
    "    count = target_df.duplicated().sum()\n",
    "    assert count == 0 , \"Duplication found - please verify the target\"\n",
    "\n",
    "# test if target is not blank\n",
    "def test_DataCompletenss():\n",
    "\n",
    "    target_df = pd.read_csv('target.csv')\n",
    "    assert not target_df.empty,\"Target file is empty- please verify the ETL process\"\n",
    "\n",
    "# test if deptno is a mandatory column\n",
    "def test_deptNoForNullValueCheck():\n",
    "    target_df = pd.read_csv('target.csv')\n",
    "    isDeptNoNUll = target_df['deptno'].isnull().any()\n",
    "    assert isDeptNoNUll == False ,\"deptno is having a null value - Please check\"\n",
    "\n",
    "# test if eno is always a primary key\n",
    "def test_enoNoForUniqueValueCheck():\n",
    "    target_df = pd.read_csv('target.csv')\n",
    "    totalcount = target_df['eno'].count()\n",
    "    deptNoUniqueValueCount = len(target_df['eno'].unique())\n",
    "    assert totalcount == deptNoUniqueValueCount ,\"eno column values are not unique - please check\""
   ]
  },
  {
   "cell_type": "code",
   "execution_count": null,
   "id": "e3a7aa71-8a23-40d8-b1c0-ce5bf4cb2837",
   "metadata": {},
   "outputs": [],
   "source": []
  }
 ],
 "metadata": {
  "kernelspec": {
   "display_name": "Python 3 (ipykernel)",
   "language": "python",
   "name": "python3"
  },
  "language_info": {
   "codemirror_mode": {
    "name": "ipython",
    "version": 3
   },
   "file_extension": ".py",
   "mimetype": "text/x-python",
   "name": "python",
   "nbconvert_exporter": "python",
   "pygments_lexer": "ipython3",
   "version": "3.12.4"
  }
 },
 "nbformat": 4,
 "nbformat_minor": 5
}
